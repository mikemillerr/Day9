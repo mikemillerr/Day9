{
 "cells": [
  {
   "cell_type": "markdown",
   "metadata": {},
   "source": [
    "## What is Linear Regression?\n",
    "\n",
    "Linear Regression is a method for interpolating and extrapolating data. In the case of simple linear regression, you have one dependent variable y and one independent variable x.  By applying the least sqarred error on the residuals LG fitts a line through this data points in a why that the sum of those errors are minimised. \n",
    "Once splope and intercept of the line are know, one can extrapolate the given data to produce predictions."
   ]
  },
  {
   "cell_type": "markdown",
   "metadata": {},
   "source": [
    "## What is multiple linear regression\n",
    "If there are multiple independent variables we call that multiple linear regression. In those cases the line becomes are more dimensional shaped object. For example for two independent variables we get a plane. For higher dimensional problems the shape of the minimised LSE become hard to imagen.\n"
   ]
  },
  {
   "cell_type": "code",
   "execution_count": null,
   "metadata": {},
   "outputs": [],
   "source": []
  }
 ],
 "metadata": {
  "kernelspec": {
   "display_name": "Python [conda env:nf] *",
   "language": "python",
   "name": "conda-env-nf-py"
  },
  "language_info": {
   "codemirror_mode": {
    "name": "ipython",
    "version": 3
   },
   "file_extension": ".py",
   "mimetype": "text/x-python",
   "name": "python",
   "nbconvert_exporter": "python",
   "pygments_lexer": "ipython3",
   "version": "3.6.6"
  }
 },
 "nbformat": 4,
 "nbformat_minor": 2
}
